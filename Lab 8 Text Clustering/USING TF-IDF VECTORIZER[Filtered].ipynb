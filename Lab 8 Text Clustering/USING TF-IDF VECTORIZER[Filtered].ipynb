{
 "cells": [
  {
   "cell_type": "code",
   "execution_count": 1,
   "id": "bb76e2e4-435e-4dcb-83d5-36a784a73b21",
   "metadata": {},
   "outputs": [],
   "source": [
    "import numpy as np\n",
    "from sklearn.cluster import KMeans\n",
    "from sklearn.feature_extraction.text import TfidfVectorizer\n",
    "from tabulate import tabulate\n",
    "from collections import Counter"
   ]
  },
  {
   "cell_type": "code",
   "execution_count": 2,
   "id": "1ca8d604-1724-4d37-af5a-ddf219f251ea",
   "metadata": {},
   "outputs": [],
   "source": [
    "dataset = [\"I love playing football on the weekends\",\n",
    " \"I enjoy hiking and camping in the mountains\",\n",
    " \"I like to read books and watch movies\",\n",
    " \"I prefer playing video games over sports\",\n",
    " \"I love listening to music and going to concerts\"]"
   ]
  },
  {
   "cell_type": "code",
   "execution_count": 3,
   "id": "90e125d4-12f4-482e-8f51-90b5bd2fc5e6",
   "metadata": {},
   "outputs": [
    {
     "name": "stdout",
     "output_type": "stream",
     "text": [
      "1: i love playing football on the weekends\n",
      "2: i enjoy hiking and camping in the mountains\n",
      "3: i like to read books and watch movies\n",
      "4: i prefer playing video games over sports\n",
      "5: i love listening to music and going to concerts\n"
     ]
    }
   ],
   "source": [
    "def convert_to_lowercase(text):\n",
    "    return text.lower()\n",
    "dataset = [convert_to_lowercase(text) for text in dataset]\n",
    "for i, text in enumerate(dataset, start=1):\n",
    "    print(f\"{i}: {text}\")"
   ]
  },
  {
   "cell_type": "code",
   "execution_count": 18,
   "id": "719b9a5d-aa02-4533-b85c-e441ea02e363",
   "metadata": {},
   "outputs": [
    {
     "name": "stdout",
     "output_type": "stream",
     "text": [
      "1: i love playing football on the weekends\n",
      "2: i enjoy hiking and camping in the mountains\n",
      "3: i like to read books and watch movies\n",
      "4: i prefer playing video games over sports\n",
      "5: i love listening to music and going to concerts\n"
     ]
    }
   ],
   "source": [
    "import re\n",
    "import string\n",
    "\n",
    "def remove_punctuation(text):\n",
    "    if not isinstance(text, str):\n",
    "        return text\n",
    "    text = re.sub(r'[\\n\\r]+', ' ', text)\n",
    "    punctuation_to_remove = string.punctuation.replace(\"'\", \"\")\n",
    "    text = re.sub(r\"[{}]\".format(re.escape(punctuation_to_remove)), \" \", text)\n",
    "    text = re.sub(r'\\s+', ' ', text).strip()\n",
    "    return text\n",
    "\n",
    "dataset = [remove_punctuation(text) for text in dataset]\n",
    "\n",
    "for i, text in enumerate(dataset, start=1):\n",
    "    print(f\"{i}: {text}\")"
   ]
  },
  {
   "cell_type": "code",
   "execution_count": 26,
   "id": "a071d041-3eaa-4246-b10f-543f6a9aeba9",
   "metadata": {},
   "outputs": [
    {
     "name": "stdout",
     "output_type": "stream",
     "text": [
      "1: love playing football weekends\n",
      "2: enjoy hiking camping mountains\n",
      "3: like read books watch movies\n",
      "4: prefer playing video games sports\n",
      "5: love listening music going concerts\n"
     ]
    }
   ],
   "source": [
    "from nltk.corpus import stopwords\n",
    "\n",
    "def remove_stopwords(text):\n",
    "    if isinstance(text, str):\n",
    "        return ' '.join(word for word in text.split() if word.lower() not in stop_words)\n",
    "    return text\n",
    "stop_words = set(stopwords.words('english'))\n",
    "# Apply all transformations\n",
    "dataset = [remove_stopwords(text) for text in dataset]\n",
    "\n",
    "# Print the cleaned dataset\n",
    "for i, text in enumerate(dataset, start=1):\n",
    "    print(f\"{i}: {text}\")"
   ]
  },
  {
   "cell_type": "code",
   "execution_count": 28,
   "id": "f595a7db-5cd1-4b0c-bfa2-94991cfc6c52",
   "metadata": {},
   "outputs": [
    {
     "name": "stdout",
     "output_type": "stream",
     "text": [
      "1: love play football weekends\n",
      "2: enjoy hik camp mountains\n",
      "3: like read books watch movi\n",
      "4: prefer play video gam sports\n",
      "5: love listen music go concerts\n"
     ]
    }
   ],
   "source": [
    "def remove_suffixes(text):\n",
    "    if isinstance(text, str):\n",
    "        words = text.split()\n",
    "        stripped_words = []\n",
    "        for word in words:\n",
    "            # Basic handling for common suffixes\n",
    "            if word.endswith(\"ing\") and len(word) > 4:\n",
    "                stripped_words.append(word[:-3])\n",
    "            elif word.endswith(\"es\") and len(word) > 3:\n",
    "                stripped_words.append(word[:-2])\n",
    "            else:\n",
    "                stripped_words.append(word)\n",
    "        return ' '.join(stripped_words)\n",
    "    return text\n",
    "\n",
    "# Apply the new step AFTER the previous processing\n",
    "dataset = [remove_suffixes(text) for text in dataset]\n",
    "\n",
    "# Print the final output\n",
    "for i, text in enumerate(dataset, start=1):\n",
    "    print(f\"{i}: {text}\")"
   ]
  },
  {
   "cell_type": "code",
   "execution_count": 46,
   "id": "51d9a91b-7c47-43e6-826b-3fdec1442b62",
   "metadata": {},
   "outputs": [
    {
     "name": "stdout",
     "output_type": "stream",
     "text": [
      "Requirement already satisfied: autocorrect in c:\\users\\irfan\\anaconda3\\lib\\site-packages (2.6.1)\n",
      "\n",
      "Autocorrected dataset:\n",
      "1: love play football weekends\n",
      "2: enjoy his camp mountains\n",
      "3: like read books watch move\n",
      "4: prefer play video gam sports\n",
      "5: love listen music go concerts\n"
     ]
    }
   ],
   "source": [
    "!pip install autocorrect\n",
    "\n",
    "from autocorrect import Speller\n",
    "\n",
    "spell = Speller(lang='en')\n",
    "\n",
    "def autocorrect_text(text):\n",
    "    if isinstance(text, str):\n",
    "        return ' '.join(spell(word) for word in text.split())\n",
    "    return text\n",
    "\n",
    "# Apply autocorrect\n",
    "dataset = [autocorrect_text(text) for text in dataset]\n",
    "\n",
    "# Print results\n",
    "print(\"\\nAutocorrected dataset:\")\n",
    "for i, text in enumerate(dataset, start=1):\n",
    "    print(f\"{i}: {text}\")"
   ]
  },
  {
   "cell_type": "code",
   "execution_count": 48,
   "id": "a5e623b3-6b47-496d-a192-396fe6b9da91",
   "metadata": {},
   "outputs": [],
   "source": [
    "vectorizer = TfidfVectorizer()\n",
    "X = vectorizer.fit_transform(dataset)"
   ]
  },
  {
   "cell_type": "code",
   "execution_count": 50,
   "id": "4b03bfed-b3dc-4980-8fed-a8c3d0ec36ad",
   "metadata": {},
   "outputs": [
    {
     "name": "stdout",
     "output_type": "stream",
     "text": [
      "Document                         Predicted Cluster\n",
      "-----------------------------  -------------------\n",
      "love play football weekends                      0\n",
      "enjoy his camp mountains                         1\n",
      "like read books watch move                       0\n",
      "prefer play video gam sports                     0\n",
      "love listen music go concerts                    0\n"
     ]
    }
   ],
   "source": [
    "k = 2 # Define the number of clusters\n",
    "km = KMeans(n_clusters=k)\n",
    "km.fit(X)\n",
    "# Predict the clusters for each document\n",
    "y_pred = km.predict(X)\n",
    "# Display the document and its predicted cluster in a table\n",
    "table_data = [[\"Document\", \"Predicted Cluster\"]]\n",
    "table_data.extend([[doc, cluster] for doc, cluster in zip(dataset, y_pred)])\n",
    "print(tabulate(table_data, headers=\"firstrow\"))"
   ]
  },
  {
   "cell_type": "code",
   "execution_count": 52,
   "id": "67051a8f-603f-4bf5-a458-87b8f09105b9",
   "metadata": {},
   "outputs": [
    {
     "name": "stdout",
     "output_type": "stream",
     "text": [
      "\n",
      "Top terms per cluster:\n",
      "Cluster 0:\n",
      " love\n",
      " play\n",
      " football\n",
      " weekends\n",
      " go\n",
      " sports\n",
      " music\n",
      " concerts\n",
      " video\n",
      " gam\n",
      "\n",
      "Cluster 1:\n",
      " camp\n",
      " enjoy\n",
      " his\n",
      " mountains\n",
      " weekends\n",
      " listen\n",
      " concerts\n",
      " football\n",
      " gam\n",
      " go\n",
      "\n"
     ]
    }
   ],
   "source": [
    "# Print top terms per cluster\n",
    "print(\"\\nTop terms per cluster:\")\n",
    "order_centroids = km.cluster_centers_.argsort()[:, ::-1]\n",
    "terms = vectorizer.get_feature_names_out()\n",
    "for i in range(k):\n",
    " print(\"Cluster %d:\" % i)\n",
    " for ind in order_centroids[i, :10]:\n",
    "     print(' %s' % terms[ind])\n",
    " print()"
   ]
  },
  {
   "cell_type": "code",
   "execution_count": 54,
   "id": "d2e47d94-a05a-42e7-8bc9-a5e859f92657",
   "metadata": {},
   "outputs": [
    {
     "name": "stdout",
     "output_type": "stream",
     "text": [
      "Purity: 0.8\n"
     ]
    }
   ],
   "source": [
    "# Calculate purity\n",
    "total_samples = len(y_pred)\n",
    "cluster_label_counts = [Counter(y_pred)]\n",
    "purity = sum(max(cluster.values()) for cluster in cluster_label_counts) / total_samples\n",
    "print(\"Purity:\", purity)"
   ]
  }
 ],
 "metadata": {
  "kernelspec": {
   "display_name": "Python [conda env:base] *",
   "language": "python",
   "name": "conda-base-py"
  },
  "language_info": {
   "codemirror_mode": {
    "name": "ipython",
    "version": 3
   },
   "file_extension": ".py",
   "mimetype": "text/x-python",
   "name": "python",
   "nbconvert_exporter": "python",
   "pygments_lexer": "ipython3",
   "version": "3.12.7"
  }
 },
 "nbformat": 4,
 "nbformat_minor": 5
}
