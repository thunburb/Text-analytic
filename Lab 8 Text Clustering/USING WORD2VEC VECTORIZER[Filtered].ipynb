{
 "cells": [
  {
   "cell_type": "code",
   "execution_count": 3,
   "id": "111f183d-978b-4af8-b657-eded09fa6f97",
   "metadata": {},
   "outputs": [],
   "source": [
    "import numpy as np\n",
    "from sklearn.cluster import KMeans\n",
    "from gensim.models import Word2Vec\n",
    "from tabulate import tabulate\n",
    "from collections import Counter"
   ]
  },
  {
   "cell_type": "code",
   "execution_count": 5,
   "id": "2f2795df-62c9-4621-bcd4-b5f15633e119",
   "metadata": {},
   "outputs": [],
   "source": [
    "dataset = [\"I love playing football on the weekends\",\n",
    " \"I enjoy hiking and camping in the mountains\",\n",
    " \"I like to read books and watch movies\",\n",
    " \"I prefer playing video games over sports\",\n",
    " \"I love listening to music and going to concerts\"]"
   ]
  },
  {
   "cell_type": "code",
   "execution_count": 7,
   "id": "e821e03f-05cf-4b7d-a139-218507d37436",
   "metadata": {},
   "outputs": [
    {
     "name": "stdout",
     "output_type": "stream",
     "text": [
      "1: i love playing football on the weekends\n",
      "2: i enjoy hiking and camping in the mountains\n",
      "3: i like to read books and watch movies\n",
      "4: i prefer playing video games over sports\n",
      "5: i love listening to music and going to concerts\n"
     ]
    }
   ],
   "source": [
    "def convert_to_lowercase(text):\n",
    "    return text.lower()\n",
    "dataset = [convert_to_lowercase(text) for text in dataset]\n",
    "for i, text in enumerate(dataset, start=1):\n",
    "    print(f\"{i}: {text}\")"
   ]
  },
  {
   "cell_type": "code",
   "execution_count": 9,
   "id": "736513a9-e68c-4c8e-afc0-19343dc5d5c5",
   "metadata": {},
   "outputs": [
    {
     "name": "stdout",
     "output_type": "stream",
     "text": [
      "1: i love playing football on the weekends\n",
      "2: i enjoy hiking and camping in the mountains\n",
      "3: i like to read books and watch movies\n",
      "4: i prefer playing video games over sports\n",
      "5: i love listening to music and going to concerts\n"
     ]
    }
   ],
   "source": [
    "import re\n",
    "import string\n",
    "\n",
    "def remove_punctuation(text):\n",
    "    if not isinstance(text, str):\n",
    "        return text\n",
    "    text = re.sub(r'[\\n\\r]+', ' ', text)\n",
    "    punctuation_to_remove = string.punctuation.replace(\"'\", \"\")\n",
    "    text = re.sub(r\"[{}]\".format(re.escape(punctuation_to_remove)), \" \", text)\n",
    "    text = re.sub(r'\\s+', ' ', text).strip()\n",
    "    return text\n",
    "\n",
    "dataset = [remove_punctuation(text) for text in dataset]\n",
    "\n",
    "for i, text in enumerate(dataset, start=1):\n",
    "    print(f\"{i}: {text}\")"
   ]
  },
  {
   "cell_type": "code",
   "execution_count": 11,
   "id": "200edee2-83d1-47f7-9a23-d0cfd0fe8518",
   "metadata": {},
   "outputs": [
    {
     "name": "stdout",
     "output_type": "stream",
     "text": [
      "1: love playing football weekends\n",
      "2: enjoy hiking camping mountains\n",
      "3: like read books watch movies\n",
      "4: prefer playing video games sports\n",
      "5: love listening music going concerts\n"
     ]
    }
   ],
   "source": [
    "from nltk.corpus import stopwords\n",
    "\n",
    "def remove_stopwords(text):\n",
    "    if isinstance(text, str):\n",
    "        return ' '.join(word for word in text.split() if word.lower() not in stop_words)\n",
    "    return text\n",
    "stop_words = set(stopwords.words('english'))\n",
    "# Apply all transformations\n",
    "dataset = [remove_stopwords(text) for text in dataset]\n",
    "\n",
    "# Print the cleaned dataset\n",
    "for i, text in enumerate(dataset, start=1):\n",
    "    print(f\"{i}: {text}\")"
   ]
  },
  {
   "cell_type": "code",
   "execution_count": 13,
   "id": "154d48c1-10e6-44c4-8440-e4b2190df33a",
   "metadata": {},
   "outputs": [
    {
     "name": "stdout",
     "output_type": "stream",
     "text": [
      "1: love play football weekends\n",
      "2: enjoy hik camp mountains\n",
      "3: like read books watch movi\n",
      "4: prefer play video gam sports\n",
      "5: love listen music go concerts\n"
     ]
    }
   ],
   "source": [
    "def remove_suffixes(text):\n",
    "    if isinstance(text, str):\n",
    "        words = text.split()\n",
    "        stripped_words = []\n",
    "        for word in words:\n",
    "            # Basic handling for common suffixes\n",
    "            if word.endswith(\"ing\") and len(word) > 4:\n",
    "                stripped_words.append(word[:-3])\n",
    "            elif word.endswith(\"es\") and len(word) > 3:\n",
    "                stripped_words.append(word[:-2])\n",
    "            else:\n",
    "                stripped_words.append(word)\n",
    "        return ' '.join(stripped_words)\n",
    "    return text\n",
    "\n",
    "# Apply the new step AFTER the previous processing\n",
    "dataset = [remove_suffixes(text) for text in dataset]\n",
    "\n",
    "# Print the final output\n",
    "for i, text in enumerate(dataset, start=1):\n",
    "    print(f\"{i}: {text}\")"
   ]
  },
  {
   "cell_type": "code",
   "execution_count": 15,
   "id": "af33be85-e38a-400f-b64c-b1b16d261b7e",
   "metadata": {},
   "outputs": [
    {
     "name": "stdout",
     "output_type": "stream",
     "text": [
      "Requirement already satisfied: autocorrect in c:\\users\\irfan\\anaconda3\\lib\\site-packages (2.6.1)\n",
      "\n",
      "Autocorrected dataset:\n",
      "1: love play football weekends\n",
      "2: enjoy his camp mountains\n",
      "3: like read books watch move\n",
      "4: prefer play video gam sports\n",
      "5: love listen music go concerts\n"
     ]
    }
   ],
   "source": [
    "!pip install autocorrect\n",
    "\n",
    "from autocorrect import Speller\n",
    "\n",
    "spell = Speller(lang='en')\n",
    "\n",
    "def autocorrect_text(text):\n",
    "    if isinstance(text, str):\n",
    "        return ' '.join(spell(word) for word in text.split())\n",
    "    return text\n",
    "\n",
    "# Apply autocorrect\n",
    "dataset = [autocorrect_text(text) for text in dataset]\n",
    "\n",
    "# Print results\n",
    "print(\"\\nAutocorrected dataset:\")\n",
    "for i, text in enumerate(dataset, start=1):\n",
    "    print(f\"{i}: {text}\")"
   ]
  },
  {
   "cell_type": "code",
   "execution_count": 17,
   "id": "94ff61a5-d837-4786-882d-78ecaab73c69",
   "metadata": {},
   "outputs": [],
   "source": [
    "tokenized_dataset = [doc.split() for doc in dataset]\n",
    "word2vec_model = Word2Vec(sentences=tokenized_dataset, vector_size=100,\n",
    "window=5, min_count=1, workers=4)"
   ]
  },
  {
   "cell_type": "code",
   "execution_count": 19,
   "id": "59ce0703-3e8d-49c6-a781-79a88095bbe2",
   "metadata": {},
   "outputs": [],
   "source": [
    "X = np.array([np.mean([word2vec_model.wv[word] for word in doc.split() if word in\n",
    "word2vec_model.wv], axis=0) for doc in dataset])"
   ]
  },
  {
   "cell_type": "code",
   "execution_count": 21,
   "id": "bcd8c163-b6ba-498a-844a-bc69d6aa40d7",
   "metadata": {},
   "outputs": [
    {
     "name": "stdout",
     "output_type": "stream",
     "text": [
      "Document                         Predicted Cluster\n",
      "-----------------------------  -------------------\n",
      "love play football weekends                      0\n",
      "enjoy his camp mountains                         1\n",
      "like read books watch move                       0\n",
      "prefer play video gam sports                     0\n",
      "love listen music go concerts                    1\n"
     ]
    },
    {
     "name": "stderr",
     "output_type": "stream",
     "text": [
      "C:\\Users\\Irfan\\anaconda3\\Lib\\site-packages\\sklearn\\cluster\\_kmeans.py:1429: UserWarning: KMeans is known to have a memory leak on Windows with MKL, when there are less chunks than available threads. You can avoid it by setting the environment variable OMP_NUM_THREADS=1.\n",
      "  warnings.warn(\n"
     ]
    }
   ],
   "source": [
    "k = 2 # Define the number of clusters\n",
    "km = KMeans(n_clusters=k)\n",
    "km.fit(X)\n",
    "# Predict the clusters for each document\n",
    "y_pred = km.predict(X)\n",
    "# Tabulate the document and predicted cluster\n",
    "table_data = [[\"Document\", \"Predicted Cluster\"]]\n",
    "table_data.extend([[doc, cluster] for doc, cluster in zip(dataset, y_pred)])\n",
    "print(tabulate(table_data, headers=\"firstrow\"))"
   ]
  },
  {
   "cell_type": "code",
   "execution_count": 23,
   "id": "31010ef7-0ba7-47a0-be5f-a9ca6ca0ae27",
   "metadata": {},
   "outputs": [
    {
     "name": "stdout",
     "output_type": "stream",
     "text": [
      "Purity: 0.6\n"
     ]
    }
   ],
   "source": [
    "# Calculate purity\n",
    "total_samples = len(y_pred)\n",
    "cluster_label_counts = [Counter(y_pred)]\n",
    "purity = sum(max(cluster.values()) for cluster in cluster_label_counts) / total_samples\n",
    "print(\"Purity:\", purity)\n"
   ]
  }
 ],
 "metadata": {
  "kernelspec": {
   "display_name": "Python [conda env:base] *",
   "language": "python",
   "name": "conda-base-py"
  },
  "language_info": {
   "codemirror_mode": {
    "name": "ipython",
    "version": 3
   },
   "file_extension": ".py",
   "mimetype": "text/x-python",
   "name": "python",
   "nbconvert_exporter": "python",
   "pygments_lexer": "ipython3",
   "version": "3.12.7"
  }
 },
 "nbformat": 4,
 "nbformat_minor": 5
}
