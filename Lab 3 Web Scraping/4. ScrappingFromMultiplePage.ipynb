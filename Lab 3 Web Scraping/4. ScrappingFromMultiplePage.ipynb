{
 "cells": [
  {
   "cell_type": "code",
   "execution_count": 8,
   "id": "4e2ef956-307b-44e6-9015-cd54df294565",
   "metadata": {},
   "outputs": [],
   "source": [
    "import requests\n",
    "from bs4 import BeautifulSoup\n",
    "import csv\n",
    "# Function to scrape quotes from a page\n",
    "def scrape_page(soup, quotes):\n",
    " for quote in soup.find_all('div', class_='quote'):\n",
    "     text = quote.find('span', class_='text').text\n",
    "     author = quote.find('small', class_='author').text\n",
    "     tags = ', '.join(tag.text for tag in quote.find_all('a', class_='tag'))\n",
    "     quotes.append({'Text': text, 'Author': author, 'Tags': tags})\n"
   ]
  },
  {
   "cell_type": "code",
   "execution_count": 10,
   "id": "9e887449-8ac3-40be-903d-f9a61d258b88",
   "metadata": {},
   "outputs": [],
   "source": [
    "# Base URL and headers\n",
    "base_url = 'https://quotes.toscrape.com'\n",
    "headers = {'User-Agent': 'Mozilla/5.0'}\n",
    "# List to store quotes\n",
    "quotes = []"
   ]
  },
  {
   "cell_type": "code",
   "execution_count": 12,
   "id": "7a6d0c04-92ce-4e14-8f75-05c87e284095",
   "metadata": {},
   "outputs": [],
   "source": [
    "# Function to scrape quotes from multiple pages\n",
    "def scrape_all_pages(url):\n",
    " while url:\n",
    "     response = requests.get(url, headers=headers)\n",
    "     soup = BeautifulSoup(response.text, 'html.parser')\n",
    "     scrape_page(soup, quotes)\n",
    "     next_page = soup.find('li', class_='next')\n",
    "     url = base_url + next_page.find('a')['href'] if next_page else None"
   ]
  },
  {
   "cell_type": "code",
   "execution_count": 14,
   "id": "29fa6636-c717-4dd1-8a65-12807e56220f",
   "metadata": {},
   "outputs": [],
   "source": [
    "# Scrape quotes from all pages\n",
    "scrape_all_pages(base_url)\n",
    "# Save quotes to CSV file\n",
    "with open('quotes2.csv', 'w', newline='', encoding='utf-8') as csvfile:\n",
    "     writer = csv.DictWriter(csvfile, fieldnames=['Text', 'Author', 'Tags'])\n",
    "     writer.writeheader()\n",
    "     writer.writerows(quotes)"
   ]
  },
  {
   "cell_type": "code",
   "execution_count": null,
   "id": "4cd4ff44-3404-46d9-b73f-975c9a63f1df",
   "metadata": {},
   "outputs": [],
   "source": []
  }
 ],
 "metadata": {
  "kernelspec": {
   "display_name": "Python [conda env:base] *",
   "language": "python",
   "name": "conda-base-py"
  },
  "language_info": {
   "codemirror_mode": {
    "name": "ipython",
    "version": 3
   },
   "file_extension": ".py",
   "mimetype": "text/x-python",
   "name": "python",
   "nbconvert_exporter": "python",
   "pygments_lexer": "ipython3",
   "version": "3.12.7"
  }
 },
 "nbformat": 4,
 "nbformat_minor": 5
}
