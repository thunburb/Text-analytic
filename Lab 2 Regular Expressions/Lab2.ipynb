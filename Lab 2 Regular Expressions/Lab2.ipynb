{
 "cells": [
  {
   "cell_type": "code",
   "execution_count": 1,
   "id": "4d444f0e-20cd-4291-a947-d457a21357d1",
   "metadata": {},
   "outputs": [
    {
     "name": "stdout",
     "output_type": "stream",
     "text": [
      "Digits found: ['2', '4', '5', '6', '7', '8', '9', '3', '4', '1', '2', '3', '0']\n"
     ]
    }
   ],
   "source": [
    "import re\n",
    "text = \"Order number: 24567, Tracking ID: 8934A12, Quantity: 30\"\n",
    "# Write your regular expression here\n",
    "pattern = r\"\\d\"\n",
    "matches = re.findall(pattern, text)\n",
    "print(\"Digits found:\", matches)"
   ]
  },
  {
   "cell_type": "code",
   "execution_count": 3,
   "id": "17315fca-0ef7-4c5a-a363-3cd73e4af5fc",
   "metadata": {},
   "outputs": [
    {
     "name": "stdout",
     "output_type": "stream",
     "text": [
      "Non-alphanumeric characters: ['!', ' ', \"'\", ' ', ' ', ' ', '?', ' ', ' ', ' ', '@', ' ', '.']\n"
     ]
    }
   ],
   "source": [
    "text = \"Welcome! How's your day going? Call me @ 3pm.\"\n",
    "pattern = r\"[^_a-zA-Z0-9]\"\n",
    "matches = re.findall(pattern, text)\n",
    "print(\"Non-alphanumeric characters:\", matches)"
   ]
  },
  {
   "cell_type": "code",
   "execution_count": 5,
   "id": "84eba421-c5e2-4352-ae49-65029ad8c190",
   "metadata": {},
   "outputs": [
    {
     "name": "stdout",
     "output_type": "stream",
     "text": [
      "Split text: ['Data Science', ' AI', ' and Machine Learning', ' These fields are growing fast', '']\n"
     ]
    }
   ],
   "source": [
    "text = \"Data Science, AI, and Machine Learning. These fields are growing fast.\"\n",
    "pattern = r'[;.,]'\n",
    "split_text = re.split(pattern, text)\n",
    "print(\"Split text:\", split_text)\n"
   ]
  },
  {
   "cell_type": "code",
   "execution_count": 7,
   "id": "3512d5bd-62ae-48d1-91a5-0d6344311052",
   "metadata": {},
   "outputs": [
    {
     "name": "stdout",
     "output_type": "stream",
     "text": [
      "Anonymized text: Contact us at [HIDDEN] or [HIDDEN]\n"
     ]
    }
   ],
   "source": [
    "text = \"Contact us at support@example.com or info@company.org\"\n",
    "pattern = r'\\w+@\\w+.\\w+'\n",
    "new_text = re.sub(pattern, \"[HIDDEN]\", text)\n",
    "print(\"Anonymized text:\", new_text)\n"
   ]
  },
  {
   "cell_type": "code",
   "execution_count": 9,
   "id": "c46b0966-2130-45cf-8852-5d8863b7a74c",
   "metadata": {},
   "outputs": [
    {
     "name": "stdout",
     "output_type": "stream",
     "text": [
      "Domain types: ['com', 'edu', 'org']\n"
     ]
    }
   ],
   "source": [
    "text = \"Emails: user@gmail.com, admin@university.edu, info@company.org\"\n",
    "pattern = r'\\w+@\\w+.(\\w+)'\n",
    "matches = re.findall(pattern, text)\n",
    "print(\"Domain types:\", matches)"
   ]
  },
  {
   "cell_type": "code",
   "execution_count": null,
   "id": "3701a570-f3fa-4f5b-a844-fdc7959f8a9a",
   "metadata": {},
   "outputs": [],
   "source": []
  }
 ],
 "metadata": {
  "kernelspec": {
   "display_name": "Python [conda env:base] *",
   "language": "python",
   "name": "conda-base-py"
  },
  "language_info": {
   "codemirror_mode": {
    "name": "ipython",
    "version": 3
   },
   "file_extension": ".py",
   "mimetype": "text/x-python",
   "name": "python",
   "nbconvert_exporter": "python",
   "pygments_lexer": "ipython3",
   "version": "3.12.7"
  }
 },
 "nbformat": 4,
 "nbformat_minor": 5
}
