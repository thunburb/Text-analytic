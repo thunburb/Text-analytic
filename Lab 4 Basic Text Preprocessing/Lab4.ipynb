{
 "cells": [
  {
   "cell_type": "code",
   "execution_count": 1,
   "id": "896a6686-b44d-42eb-9982-2dd946669dc5",
   "metadata": {},
   "outputs": [
    {
     "name": "stdout",
     "output_type": "stream",
     "text": [
      "                                                                           Review\n",
      "0   The product arrived on time. Packaging was great, and the quality is amazing!\n",
      "1                                        THIS PRODUCT IS JUST AMAZING! I LOVE IT.\n",
      "2     I bought this phone for $799, and it has a 120Hz display. Totally worth it!\n",
      "3                         Wow!!! This product is awesome... but a bit expensive??\n",
      "4                                             The laptop works perfectly fine.   \n",
      "5    Check out the full product details here: https://example.com/product-details\n",
      "6         <div><h2>Great Purchase!</h2><p>I am happy with this product.</p></div>\n",
      "7                The battry life is excelent, but the chargin cable is too short.\n",
      "8                       I can't believe it's so good! Didn't expect such quality.\n",
      "9                   Love this product! ???? Fast delivery ??, amazing quality! ??\n",
      "10                       TBH, I wasn’t expecting much, but OMG, this is awesome!!\n",
      "11                          This is the best product I have ever used in my life!\n",
      "12  The shoes were comfortable, fitting nicely, and worked perfectly for jogging.\n"
     ]
    }
   ],
   "source": [
    "# Load dataset\n",
    "import pandas as pd\n",
    "\n",
    "file_path = \"Review.csv\"\n",
    "df = pd.read_csv(file_path)\n",
    "\n",
    "# Display column content without truncation\n",
    "pd.set_option('display.max_colwidth', None)# Set to None for unlimited width\n",
    "print(df)"
   ]
  },
  {
   "cell_type": "code",
   "execution_count": 2,
   "id": "ef10af83-1273-442d-ab9e-2e668784ccf0",
   "metadata": {},
   "outputs": [
    {
     "name": "stdout",
     "output_type": "stream",
     "text": [
      "0     the product arrived on time. packaging was great, and the quality is amazing!\n",
      "1                                          this product is just amazing! i love it.\n",
      "2       i bought this phone for $799, and it has a 120hz display. totally worth it!\n",
      "3                           wow!!! this product is awesome... but a bit expensive??\n",
      "4                                               the laptop works perfectly fine.   \n",
      "5      check out the full product details here: https://example.com/product-details\n",
      "6           <div><h2>great purchase!</h2><p>i am happy with this product.</p></div>\n",
      "7                  the battry life is excelent, but the chargin cable is too short.\n",
      "8                         i can't believe it's so good! didn't expect such quality.\n",
      "9                     love this product! ???? fast delivery ??, amazing quality! ??\n",
      "10                         tbh, i wasn’t expecting much, but omg, this is awesome!!\n",
      "11                            this is the best product i have ever used in my life!\n",
      "12    the shoes were comfortable, fitting nicely, and worked perfectly for jogging.\n",
      "Name: lowercased, dtype: object\n"
     ]
    }
   ],
   "source": [
    "# Lowercase conversion\n",
    "def convert_to_lowercase(text):\n",
    " return text.lower()\n",
    "df[\"lowercased\"] = df[\"Review\"].apply(convert_to_lowercase)\n",
    "# Display column content without truncation\n",
    "pd.set_option('display.max_colwidth', None) # Set to None for unlimited width\n",
    "print(df[\"lowercased\"])"
   ]
  },
  {
   "cell_type": "code",
   "execution_count": 3,
   "id": "e18bdee2-7417-488a-8684-4a85246e2bb5",
   "metadata": {},
   "outputs": [
    {
     "name": "stdout",
     "output_type": "stream",
     "text": [
      "0     the product arrived on time. packaging was great, and the quality is amazing!\n",
      "1                                          this product is just amazing! i love it.\n",
      "2       i bought this phone for $799, and it has a 120hz display. totally worth it!\n",
      "3                           wow!!! this product is awesome... but a bit expensive??\n",
      "4                                               the laptop works perfectly fine.   \n",
      "5                                         check out the full product details here: \n",
      "6           <div><h2>great purchase!</h2><p>i am happy with this product.</p></div>\n",
      "7                  the battry life is excelent, but the chargin cable is too short.\n",
      "8                         i can't believe it's so good! didn't expect such quality.\n",
      "9                     love this product! ???? fast delivery ??, amazing quality! ??\n",
      "10                         tbh, i wasn’t expecting much, but omg, this is awesome!!\n",
      "11                            this is the best product i have ever used in my life!\n",
      "12    the shoes were comfortable, fitting nicely, and worked perfectly for jogging.\n",
      "Name: urls_removed, dtype: object\n"
     ]
    }
   ],
   "source": [
    "# Removal of URLs\n",
    "import re\n",
    "# remove any URLs that start with \"http\" or \"www\" from the text\n",
    "def remove_urls(text):\n",
    " return re.sub(r'http\\S+|www\\S+', '', text)\n",
    "df[\"urls_removed\"] = df[\"lowercased\"].apply(remove_urls)\n",
    "# Display column content without truncation\n",
    "pd.set_option('display.max_colwidth', None) # Set to None for unlimited width\n",
    "print(df[\"urls_removed\"])"
   ]
  },
  {
   "cell_type": "code",
   "execution_count": 4,
   "id": "534b791a-4c5b-4c1f-ad02-a78c0351e4b1",
   "metadata": {},
   "outputs": [
    {
     "name": "stdout",
     "output_type": "stream",
     "text": [
      "0     the product arrived on time. packaging was great, and the quality is amazing!\n",
      "1                                          this product is just amazing! i love it.\n",
      "2       i bought this phone for $799, and it has a 120hz display. totally worth it!\n",
      "3                           wow!!! this product is awesome... but a bit expensive??\n",
      "4                                               the laptop works perfectly fine.   \n",
      "5                                         check out the full product details here: \n",
      "6                                      great purchase!i am happy with this product.\n",
      "7                  the battry life is excelent, but the chargin cable is too short.\n",
      "8                         i can't believe it's so good! didn't expect such quality.\n",
      "9                     love this product! ???? fast delivery ??, amazing quality! ??\n",
      "10                         tbh, i wasn’t expecting much, but omg, this is awesome!!\n",
      "11                            this is the best product i have ever used in my life!\n",
      "12    the shoes were comfortable, fitting nicely, and worked perfectly for jogging.\n",
      "Name: html_removed, dtype: object\n"
     ]
    }
   ],
   "source": [
    "# Removal of HTML tags\n",
    "from bs4 import BeautifulSoup\n",
    "# extracts only the text, removing all HTML tags\n",
    "def remove_html_tags(text):\n",
    " return BeautifulSoup(text, \"html.parser\").get_text()\n",
    "\n",
    "df[\"html_removed\"] = df[\"urls_removed\"].apply(remove_html_tags)\n",
    "# Display column content without truncation\n",
    "pd.set_option('display.max_colwidth', None) # Set to None for unlimited width\n",
    "print(df[\"html_removed\"])"
   ]
  },
  {
   "cell_type": "code",
   "execution_count": 5,
   "id": "8f488853-dfbe-4f6c-9350-23a650a99a0d",
   "metadata": {},
   "outputs": [
    {
     "name": "stdout",
     "output_type": "stream",
     "text": [
      "Requirement already satisfied: emoji in c:\\users\\irfan\\anaconda3\\lib\\site-packages (2.14.1)\n",
      "Note: you may need to restart the kernel to use updated packages.\n"
     ]
    }
   ],
   "source": [
    "pip install emoji"
   ]
  },
  {
   "cell_type": "code",
   "execution_count": 6,
   "id": "2947fb96-befd-49b5-bbe3-ccff2f820e12",
   "metadata": {},
   "outputs": [
    {
     "name": "stdout",
     "output_type": "stream",
     "text": [
      "0     the product arrived on time. packaging was great, and the quality is amazing!\n",
      "1                                          this product is just amazing! i love it.\n",
      "2       i bought this phone for $799, and it has a 120hz display. totally worth it!\n",
      "3                           wow!!! this product is awesome... but a bit expensive??\n",
      "4                                               the laptop works perfectly fine.   \n",
      "5                                         check out the full product details here: \n",
      "6                                      great purchase!i am happy with this product.\n",
      "7                  the battry life is excelent, but the chargin cable is too short.\n",
      "8                         i can't believe it's so good! didn't expect such quality.\n",
      "9                     love this product! ???? fast delivery ??, amazing quality! ??\n",
      "10                         tbh, i wasn’t expecting much, but omg, this is awesome!!\n",
      "11                            this is the best product i have ever used in my life!\n",
      "12    the shoes were comfortable, fitting nicely, and worked perfectly for jogging.\n",
      "Name: emojis_removed, dtype: object\n"
     ]
    }
   ],
   "source": [
    "# Removal of emojis (if any)\n",
    "import emoji\n",
    "# replace emoji with ''\n",
    "def remove_emojis(text):\n",
    " return emoji.replace_emoji(text, replace='')\n",
    "df[\"emojis_removed\"] = df[\"html_removed\"].apply(remove_emojis)\n",
    "# Display column content without truncation\n",
    "pd.set_option('display.max_colwidth', None) # Set to None for unlimited width\n",
    "print(df[\"emojis_removed\"])"
   ]
  },
  {
   "cell_type": "code",
   "execution_count": 7,
   "id": "59a6c369-f507-4b76-aa3a-6cd2e565c38c",
   "metadata": {},
   "outputs": [
    {
     "name": "stdout",
     "output_type": "stream",
     "text": [
      "0     the product arrived on time. packaging was great, and the quality is amazing!\n",
      "1                                          this product is just amazing! i love it.\n",
      "2       i bought this phone for $799, and it has a 120hz display. totally worth it!\n",
      "3                           wow!!! this product is awesome... but a bit expensive??\n",
      "4                                               the laptop works perfectly fine.   \n",
      "5                                         check out the full product details here: \n",
      "6                                      great purchase!i am happy with this product.\n",
      "7                  the battry life is excelent, but the chargin cable is too short.\n",
      "8                         i can't believe it's so good! didn't expect such quality.\n",
      "9                     love this product! ???? fast delivery ??, amazing quality! ??\n",
      "10          to be honest, i wasn’t expecting much, but oh my god, this is awesome!!\n",
      "11                            this is the best product i have ever used in my life!\n",
      "12    the shoes were comfortable, fitting nicely, and worked perfectly for jogging.\n",
      "Name: slangs_replaced, dtype: object\n"
     ]
    }
   ],
   "source": [
    "# Replace internet slang/chat words\n",
    "# Dictionary of slang words and their replacements\n",
    "slang_dict = {\n",
    " \"tbh\": \"to be honest\",\n",
    " \"omg\": \"oh my god\",\n",
    " \"lol\": \"laugh out loud\",\n",
    " \"idk\": \"I don't know\",\n",
    " \"brb\": \"be right back\",\n",
    " \"btw\": \"by the way\",\n",
    " \"imo\": \"in my opinion\",\n",
    " \"smh\": \"shaking my head\",\n",
    " \"fyi\": \"for your information\",\n",
    " \"np\": \"no problem\",\n",
    " \"ikr\": \"I know right\",\n",
    " \"asap\": \"as soon as possible\",\n",
    " \"bff\": \"best friend forever\",\n",
    " \"gg\": \"good game\",\n",
    " \"hmu\": \"hit me up\",\n",
    " \"rofl\": \"rolling on the floor laughing\"\n",
    "}\n",
    "# Function to replace slang words\n",
    "def replace_slang(text):\n",
    "    if not isinstance(text, str):  # Ensure input is a string\n",
    "        return text\n",
    "\n",
    "    slang_pattern = r'\\b(?:' + '|'.join(map(re.escape, slang_dict.keys())) + r')\\b'\n",
    "\n",
    "    def replace_match(match):\n",
    "        slang_word = match.group(0).lower()  # Extract matched slang word\n",
    "        return slang_dict.get(slang_word, slang_word)  # Replace with full form\n",
    "\n",
    "    # Use regex to replace slang words with full forms\n",
    "    replaced_text = re.sub(slang_pattern, replace_match, text, flags=re.IGNORECASE)\n",
    "\n",
    "    return replaced_text\n",
    "\n",
    "# Apply the function to the column\n",
    "df[\"slangs_replaced\"] = df[\"emojis_removed\"].apply(replace_slang)\n",
    "\n",
    "# Display column content without truncation\n",
    "pd.set_option('display.max_colwidth', None)  # Set to None for unlimited width\n",
    "\n",
    "print(df[\"slangs_replaced\"])"
   ]
  },
  {
   "cell_type": "code",
   "execution_count": 46,
   "id": "622018ec-5a14-41b9-9749-b5cc78713f56",
   "metadata": {},
   "outputs": [
    {
     "name": "stdout",
     "output_type": "stream",
     "text": [
      "0     the product arrived on time. packaging was great, and the quality is amazing!\n",
      "1                                          this product is just amazing! i love it.\n",
      "2       i bought this phone for $799, and it has a 120hz display. totally worth it!\n",
      "3                           wow!!! this product is awesome... but a bit expensive??\n",
      "4                                               the laptop works perfectly fine.   \n",
      "5                                         check out the full product details here: \n",
      "6                                      great purchase!i am happy with this product.\n",
      "7                  the battry life is excelent, but the chargin cable is too short.\n",
      "8                      i cannot believe it is so good! did not expect such quality.\n",
      "9                     love this product! ???? fast delivery ??, amazing quality! ??\n",
      "10          to be honest, i wasn’t expecting much, but oh my god, this is awesome!!\n",
      "11                            this is the best product i have ever used in my life!\n",
      "12    the shoes were comfortable, fitting nicely, and worked perfectly for jogging.\n",
      "Name: contractions_replaced, dtype: object\n"
     ]
    }
   ],
   "source": [
    "# Replace Contractions\n",
    "contractions_dict = {\n",
    " \"wasn't\": \"was not\",\n",
    " \"isn't\": \"is not\",\n",
    " \"aren't\": \"are not\",\n",
    " \"weren't\": \"were not\",\n",
    " \"doesn't\": \"does not\",\n",
    " \"don't\": \"do not\",\n",
    " \"didn't\": \"did not\",\n",
    " \"can't\": \"cannot\",\n",
    " \"couldn't\": \"could not\",\n",
    " \"shouldn't\": \"should not\",\n",
    " \"wouldn't\": \"would not\",\n",
    " \"won't\": \"will not\",\n",
    " \"haven't\": \"have not\",\n",
    " \"hasn't\": \"has not\",\n",
    " \"hadn't\": \"had not\",\n",
    " \"i'm\": \"i am\",\n",
    " \"you're\": \"you are\",\n",
    " \"he's\": \"he is\",\n",
    " \"she's\": \"she is\",\n",
    " \"it's\": \"it is\",\n",
    " \"we're\": \"we are\",\n",
    " \"they're\": \"they are\",\n",
    " \"i've\": \"i have\",\n",
    " \"you've\": \"you have\",\n",
    " \"we've\": \"we have\",\n",
    " \"they've\": \"they have\",\n",
    " \"i'd\": \"i would\",\n",
    " \"you'd\": \"you would\",\n",
    " \"he'd\": \"he would\",\n",
    " \"she'd\": \"she would\",\n",
    " \"we'd\": \"we would\",\n",
    " \"they'd\": \"they would\",\n",
    " \"i'll\": \"i will\",\n",
    " \"you'll\": \"you will\",\n",
    " \"he'll\": \"he will\",\n",
    " \"she'll\": \"she will\",\n",
    " \"we'll\": \"we will\",\n",
    " \"they'll\": \"they will\",\n",
    " \"let's\": \"let us\",\n",
    " \"that's\": \"that is\",\n",
    " \"who's\": \"who is\",\n",
    " \"what's\": \"what is\",\n",
    " \"where's\": \"where is\",\n",
    " \"when's\": \"when is\",\n",
    " \"why's\": \"why is\"\n",
    "}\n",
    "# Build the regex pattern for contractions\n",
    "escaped_contractions = [] # List to store escaped contractions\n",
    "for contraction in contractions_dict.keys():\n",
    " escaped_contraction = re.escape(contraction) # Escape special characters (e.g.,apostrophes)\n",
    " escaped_contractions.append(escaped_contraction) # Add to list\n",
    "# Join the escaped contractions with '|'\n",
    "joined_contractions = \"|\".join(escaped_contractions)\n",
    "# Create a regex pattern with word boundaries (\\b)\n",
    "contractions_pattern = r'\\b(' + joined_contractions + r')\\b'\n",
    "# Compile the regex\n",
    "compiled_pattern = re.compile(contractions_pattern, flags=re.IGNORECASE)\n",
    "# Define a function to replace contractions\n",
    "def replace_contractions(text):\n",
    " # Function to handle each match found\n",
    " def replace_match(match):\n",
    "  matched_word = match.group(0) # Extract matched contraction\n",
    "  lower_matched_word = matched_word.lower() # Convert to lowercase\n",
    "  expanded_form = contractions_dict[lower_matched_word] # Get full form from dictionary\n",
    "  return expanded_form # Return the expanded form\n",
    " # Apply regex substitution\n",
    " expanded_text = compiled_pattern.sub(replace_match, text)\n",
    " return expanded_text # Return modified text\n",
    "# Apply the function to a DataFrame column\n",
    "df[\"contractions_replaced\"] = df[\"slangs_replaced\"].apply(replace_contractions)\n",
    "# Display column content without truncation\n",
    "pd.set_option('display.max_colwidth', None) # Set to None for unlimited width\n",
    "print(df[\"contractions_replaced\"])"
   ]
  },
  {
   "cell_type": "code",
   "execution_count": 48,
   "id": "44dd6725-bc63-4bc6-8eee-3e5e0f4f73a4",
   "metadata": {},
   "outputs": [
    {
     "name": "stdout",
     "output_type": "stream",
     "text": [
      "0     the product arrived on time packaging was great and the quality is amazing\n",
      "1                                         this product is just amazing i love it\n",
      "2        i bought this phone for 799 and it has a 120hz display totally worth it\n",
      "3                                wow this product is awesome but a bit expensive\n",
      "4                                             the laptop works perfectly fine   \n",
      "5                                       check out the full product details here \n",
      "6                                     great purchasei am happy with this product\n",
      "7                 the battry life is excelent but the chargin cable is too short\n",
      "8                     i cannot believe it is so good did not expect such quality\n",
      "9                             love this product  fast delivery  amazing quality \n",
      "10            to be honest i wasn’t expecting much but oh my god this is awesome\n",
      "11                          this is the best product i have ever used in my life\n",
      "12    the shoes were comfortable fitting nicely and worked perfectly for jogging\n",
      "Name: punctuations_removed, dtype: object\n"
     ]
    }
   ],
   "source": [
    "# Remove punctuations and special characters\n",
    "import string\n",
    "# Function to remove punctuation\n",
    "def remove_punctuation(text):\n",
    " return text.translate(str.maketrans('', '', string.punctuation))\n",
    "# Apply the function to the column\n",
    "df[\"punctuations_removed\"] = df[\"contractions_replaced\"].apply(remove_punctuation)\n",
    "# Display column content without truncation\n",
    "pd.set_option('display.max_colwidth', None) # Set to None for unlimited width\n",
    "print(df[\"punctuations_removed\"])"
   ]
  },
  {
   "cell_type": "code",
   "execution_count": 50,
   "id": "9119410f-af90-4f63-94a8-6cf49e8b579e",
   "metadata": {},
   "outputs": [
    {
     "name": "stdout",
     "output_type": "stream",
     "text": [
      "0     the product arrived on time packaging was great and the quality is amazing\n",
      "1                                         this product is just amazing i love it\n",
      "2              i bought this phone for  and it has a hz display totally worth it\n",
      "3                                wow this product is awesome but a bit expensive\n",
      "4                                             the laptop works perfectly fine   \n",
      "5                                       check out the full product details here \n",
      "6                                     great purchasei am happy with this product\n",
      "7                 the battry life is excelent but the chargin cable is too short\n",
      "8                     i cannot believe it is so good did not expect such quality\n",
      "9                             love this product  fast delivery  amazing quality \n",
      "10            to be honest i wasn’t expecting much but oh my god this is awesome\n",
      "11                          this is the best product i have ever used in my life\n",
      "12    the shoes were comfortable fitting nicely and worked perfectly for jogging\n",
      "Name: numbers_removed, dtype: object\n"
     ]
    }
   ],
   "source": [
    "# Remove numbers\n",
    "def remove_numbers(text):\n",
    " return re.sub(r'\\d+', '', text) # Removes all numeric characters\n",
    "# Apply the function to the column\n",
    "df[\"numbers_removed\"] = df[\"punctuations_removed\"].apply(remove_numbers)\n",
    "# Display column content without truncation\n",
    "pd.set_option('display.max_colwidth', None) # Set to None for unlimited width\n",
    "print(df[\"numbers_removed\"])"
   ]
  },
  {
   "cell_type": "code",
   "execution_count": 60,
   "id": "d93a66a0-143a-4f49-bd4c-fc5bfb6afd44",
   "metadata": {},
   "outputs": [
    {
     "name": "stdout",
     "output_type": "stream",
     "text": [
      "Collecting autocorrect\n",
      "  Downloading autocorrect-2.6.1.tar.gz (622 kB)\n",
      "     ---------------------------------------- 0.0/622.8 kB ? eta -:--:--\n",
      "     ------------------------------------- 622.8/622.8 kB 11.6 MB/s eta 0:00:00\n",
      "  Preparing metadata (setup.py): started\n",
      "  Preparing metadata (setup.py): finished with status 'done'\n",
      "Building wheels for collected packages: autocorrect\n",
      "  Building wheel for autocorrect (setup.py): started\n",
      "  Building wheel for autocorrect (setup.py): finished with status 'done'\n",
      "  Created wheel for autocorrect: filename=autocorrect-2.6.1-py3-none-any.whl size=622375 sha256=31c3f186eeda36c810883c787610c89e58c4cd7567019379962ace14c915951a\n",
      "  Stored in directory: c:\\users\\irfan\\appdata\\local\\pip\\cache\\wheels\\b6\\28\\c2\\9ddf8f57f871b55b6fd0ab99c887531fb9a66e5ff236b82aee\n",
      "Successfully built autocorrect\n",
      "Installing collected packages: autocorrect\n",
      "Successfully installed autocorrect-2.6.1\n",
      "Note: you may need to restart the kernel to use updated packages.\n"
     ]
    }
   ],
   "source": [
    "pip install autocorrect"
   ]
  },
  {
   "cell_type": "code",
   "execution_count": 61,
   "id": "98d12c9f-f188-4b4f-a4b0-278da7e73299",
   "metadata": {},
   "outputs": [
    {
     "name": "stdout",
     "output_type": "stream",
     "text": [
      "0     the product arrived on time packaging was great and the quality is amazing\n",
      "1                                         this product is just amazing i love it\n",
      "2              i bought this phone for  and it has a hz display totally worth it\n",
      "3                                wow this product is awesome but a bit expensive\n",
      "4                                             the laptop works perfectly fine   \n",
      "5                                       check out the full product details here \n",
      "6                                     great purchased am happy with this product\n",
      "7              the battery life is excellent but the charging cable is too short\n",
      "8                     i cannot believe it is so good did not expect such quality\n",
      "9                             love this product  fast delivery  amazing quality \n",
      "10            to be honest i wasn’t expecting much but oh my god this is awesome\n",
      "11                          this is the best product i have ever used in my life\n",
      "12    the shoes were comfortable fitting nicely and worked perfectly for jogging\n",
      "Name: spelling_corrected, dtype: object\n"
     ]
    }
   ],
   "source": [
    "# Correct spelling mistakes\n",
    "from autocorrect import Speller\n",
    "# Initialize spell checker\n",
    "spell = Speller(lang='en')\n",
    "# Function to correct spelling\n",
    "def correct_spelling(text):\n",
    " return spell(text) # Apply correction\n",
    "# Apply the function to the column\n",
    "df[\"spelling_corrected\"] = df[\"numbers_removed\"].apply(correct_spelling)\n",
    "# Display column content without truncation\n",
    "pd.set_option('display.max_colwidth', None) # Set to None for unlimited width\n",
    "print(df[\"spelling_corrected\"])"
   ]
  },
  {
   "cell_type": "code",
   "execution_count": 64,
   "id": "04c11c65-a9c6-42d5-a058-dffe96875f30",
   "metadata": {},
   "outputs": [
    {
     "name": "stdout",
     "output_type": "stream",
     "text": [
      "0          product arrived time packaging great quality amazing\n",
      "1                                          product amazing love\n",
      "2                         bought phone hz display totally worth\n",
      "3                             wow product awesome bit expensive\n",
      "4                                   laptop works perfectly fine\n",
      "5                                    check full product details\n",
      "6                                 great purchased happy product\n",
      "7                   battery life excellent charging cable short\n",
      "8                            cannot believe good expect quality\n",
      "9                    love product fast delivery amazing quality\n",
      "10                  honest wasn’t expecting much oh god awesome\n",
      "11                                  best product ever used life\n",
      "12    shoes comfortable fitting nicely worked perfectly jogging\n",
      "Name: stopwords_removed, dtype: object\n"
     ]
    },
    {
     "name": "stderr",
     "output_type": "stream",
     "text": [
      "[nltk_data] Downloading package stopwords to\n",
      "[nltk_data]     C:\\Users\\Irfan\\AppData\\Roaming\\nltk_data...\n",
      "[nltk_data]   Unzipping corpora\\stopwords.zip.\n"
     ]
    }
   ],
   "source": [
    "# Remove stopwords\n",
    "import nltk\n",
    "from nltk.corpus import stopwords\n",
    "# Download stopwords if not already downloaded\n",
    "nltk.download('stopwords')\n",
    "# Define stopwords list\n",
    "stop_words = set(stopwords.words('english'))\n",
    "# Function to remove stopwords\n",
    "def remove_stopwords(text):\n",
    " words = text.split() # Split text into words\n",
    " filtered_words = [] # Create an empty list to store words after stopword removal\n",
    " for word in words: # Loop through each word in the list of words\n",
    "  lower_word = word.lower() # Convert the word to lowercase for uniform comparison\n",
    "  if lower_word not in stop_words: # Check if the lowercase word is NOT in the stopwords list\n",
    "   filtered_words.append(word) # If it's not a stopword, add it to the filtered list\n",
    " return \" \".join(filtered_words) # Join words back into a sentence\n",
    "# Apply the function to the column\n",
    "df[\"stopwords_removed\"] = df[\"spelling_corrected\"].apply(remove_stopwords)\n",
    "# Display column content without truncation\n",
    "pd.set_option('display.max_colwidth', None) # Set to None for unlimited width\n",
    "print(df[\"stopwords_removed\"])"
   ]
  },
  {
   "cell_type": "code",
   "execution_count": 66,
   "id": "e64aa4a9-27f4-4d12-a254-8065b2db0843",
   "metadata": {},
   "outputs": [
    {
     "name": "stdout",
     "output_type": "stream",
     "text": [
      "0     product arriv time packag great qualiti amaz\n",
      "1                                product amaz love\n",
      "2              bought phone hz display total worth\n",
      "3                    wow product awesom bit expens\n",
      "4                       laptop work perfectli fine\n",
      "5                        check full product detail\n",
      "6                      great purchas happi product\n",
      "7              batteri life excel charg cabl short\n",
      "8                cannot believ good expect qualiti\n",
      "9          love product fast deliveri amaz qualiti\n",
      "10         honest wasn’t expect much oh god awesom\n",
      "11                      best product ever use life\n",
      "12        shoe comfort fit nice work perfectli jog\n",
      "Name: stemmed_words, dtype: object\n"
     ]
    }
   ],
   "source": [
    "# Stemming - reduces words to their base root by chopping off suffixes\n",
    "from nltk.stem import PorterStemmer\n",
    "# Initialize the stemmer\n",
    "stemmer = PorterStemmer()\n",
    "# Function to apply stemming\n",
    "def stem_text(text):\n",
    " if not isinstance(text, str):\n",
    "  return \"\"\n",
    " words = text.split()\n",
    " stemmed_words = [stemmer.stem(word) for word in words] # Apply stemming\n",
    " return \" \".join(stemmed_words)\n",
    "# Apply the function\n",
    "df[\"stemmed_words\"] = df[\"stopwords_removed\"].apply(stem_text)\n",
    "# Display column content without truncation\n",
    "pd.set_option('display.max_colwidth', None) # Set to None for unlimited width\n",
    "print(df[\"stemmed_words\"])"
   ]
  },
  {
   "cell_type": "code",
   "execution_count": 68,
   "id": "1c8c4f01-2a62-4dd2-8dff-9cb73268f917",
   "metadata": {},
   "outputs": [
    {
     "name": "stderr",
     "output_type": "stream",
     "text": [
      "[nltk_data] Downloading package wordnet to\n",
      "[nltk_data]     C:\\Users\\Irfan\\AppData\\Roaming\\nltk_data...\n",
      "[nltk_data] Downloading package omw-1.4 to\n",
      "[nltk_data]     C:\\Users\\Irfan\\AppData\\Roaming\\nltk_data...\n",
      "[nltk_data] Downloading package averaged_perceptron_tagger_eng to\n",
      "[nltk_data]     C:\\Users\\Irfan\\AppData\\Roaming\\nltk_data...\n",
      "[nltk_data]   Unzipping taggers\\averaged_perceptron_tagger_eng.zip.\n",
      "[nltk_data] Downloading package punkt_tab to\n",
      "[nltk_data]     C:\\Users\\Irfan\\AppData\\Roaming\\nltk_data...\n",
      "[nltk_data]   Unzipping tokenizers\\punkt_tab.zip.\n"
     ]
    }
   ],
   "source": [
    "import nltk\n",
    "# Download the required resources\n",
    "nltk.download('wordnet') # For lemmatization\n",
    "nltk.download('omw-1.4') # WordNet lexical database\n",
    "nltk.download('averaged_perceptron_tagger_eng') # For POS tagging\n",
    "nltk.download('punkt_tab') # For tokenization\n",
    "# Lemmatization - reduces words to their base dictionary form (lemma)\n",
    "from nltk.stem import WordNetLemmatizer\n",
    "from nltk.corpus import wordnet\n",
    "from nltk.tokenize import word_tokenize\n",
    "from nltk import pos_tag"
   ]
  },
  {
   "cell_type": "code",
   "execution_count": 72,
   "id": "c1287d96-5ee6-4255-b958-ef3bda0548c5",
   "metadata": {},
   "outputs": [
    {
     "name": "stdout",
     "output_type": "stream",
     "text": [
      "0     product arrive time packaging great quality amazing\n",
      "1                                      product amaze love\n",
      "2                      buy phone hz display totally worth\n",
      "3                       wow product awesome bit expensive\n",
      "4                              laptop work perfectly fine\n",
      "5                               check full product detail\n",
      "6                            great purchase happy product\n",
      "7               battery life excellent charge cable short\n",
      "8                     can not believe good expect quality\n",
      "9              love product fast delivery amazing quality\n",
      "10             honest wasn ’ t expect much oh god awesome\n",
      "11                             best product ever use life\n",
      "12         shoe comfortable fit nicely work perfectly jog\n",
      "Name: lemmatized, dtype: object\n"
     ]
    }
   ],
   "source": [
    "# Initialize the lemmatizer\n",
    "lemmatizer = WordNetLemmatizer()\n",
    "# Function to map NLTK POS tags to WordNet POS tags\n",
    "def get_wordnet_pos(nltk_tag):\n",
    " if nltk_tag.startswith('J'): # Adjective\n",
    "  return wordnet.ADJ\n",
    " elif nltk_tag.startswith('V'): # Verb\n",
    "  return wordnet.VERB\n",
    " elif nltk_tag.startswith('N'): # Noun\n",
    "  return wordnet.NOUN\n",
    " elif nltk_tag.startswith('R'): # Adverb\n",
    "  return wordnet.ADV\n",
    " else:\n",
    "  return wordnet.NOUN # Default to noun\n",
    "# Function to lemmatize text with POS tagging\n",
    "def lemmatize_text(text):\n",
    " if not isinstance(text, str): # Ensure input is a string\n",
    "  return \"\"\n",
    " words = word_tokenize(text) # Tokenize text into words\n",
    " pos_tags = pos_tag(words) # Get POS tags\n",
    "\n",
    " # Lemmatize each word with its correct POS tag\n",
    " lemmatized_words = [lemmatizer.lemmatize(word, get_wordnet_pos(tag)) for word,tag in pos_tags]\n",
    " return \" \".join(lemmatized_words) # Join words back into a sentence\n",
    "# Apply the function to the column\n",
    "df[\"lemmatized\"] = df[\"stopwords_removed\"].apply(lemmatize_text)\n",
    "# Display column content without truncation\n",
    "pd.set_option('display.max_colwidth', None) # Set to None for unlimited width\n",
    "print(df[\"lemmatized\"])"
   ]
  },
  {
   "cell_type": "code",
   "execution_count": 74,
   "id": "e79f8f19-355b-4a59-a367-ca5c53e33a4c",
   "metadata": {},
   "outputs": [],
   "source": [
    "df.to_csv(\"Processed_Reviews.csv\", index=False) # Saves without the index column"
   ]
  },
  {
   "cell_type": "code",
   "execution_count": null,
   "id": "2d5dcb4b-c901-448e-ae2f-dd71b138eeb5",
   "metadata": {},
   "outputs": [],
   "source": []
  }
 ],
 "metadata": {
  "kernelspec": {
   "display_name": "Python [conda env:base] *",
   "language": "python",
   "name": "conda-base-py"
  },
  "language_info": {
   "codemirror_mode": {
    "name": "ipython",
    "version": 3
   },
   "file_extension": ".py",
   "mimetype": "text/x-python",
   "name": "python",
   "nbconvert_exporter": "python",
   "pygments_lexer": "ipython3",
   "version": "3.12.7"
  }
 },
 "nbformat": 4,
 "nbformat_minor": 5
}
