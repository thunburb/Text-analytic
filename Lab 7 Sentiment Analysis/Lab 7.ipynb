{
  "metadata": {
    "kernelspec": {
      "name": "python",
      "display_name": "Python (Pyodide)",
      "language": "python"
    },
    "language_info": {
      "codemirror_mode": {
        "name": "python",
        "version": 3
      },
      "file_extension": ".py",
      "mimetype": "text/x-python",
      "name": "python",
      "nbconvert_exporter": "python",
      "pygments_lexer": "ipython3",
      "version": "3.8"
    }
  },
  "nbformat_minor": 5,
  "nbformat": 4,
  "cells": [
    {
      "id": "e34a08b2-d6b5-4e19-8229-98bafd2f6bcc",
      "cell_type": "code",
      "source": "import micropip\nawait micropip.install('textblob')\nawait micropip.install('vadersentiment') # Note the lowercase 'vadersentiment'\nawait micropip.install('scikit-learn')\nawait micropip.install('tabulate')",
      "metadata": {
        "trusted": true
      },
      "outputs": [],
      "execution_count": 13
    },
    {
      "id": "c5d0f543-f831-48e2-bf1a-f19b2bad4b8c",
      "cell_type": "code",
      "source": "from textblob import TextBlob \nfrom vaderSentiment.vaderSentiment import SentimentIntensityAnalyzer \nfrom sklearn.metrics import classification_report \nfrom tabulate import tabulate ",
      "metadata": {
        "trusted": true
      },
      "outputs": [],
      "execution_count": 14
    },
    {
      "id": "d6af762a-f9d2-4dc8-b68d-ba83e2364241",
      "cell_type": "code",
      "source": "# Sample data for demonstration \ndata = [ \n    (\"I love this product, it's amazing!\", 'positive'), \n    (\"This product is terrible, I hate it.\", 'negative'), \n    (\"It's okay, not bad but not great either.\", 'neutral'), \n    (\"Best product ever, highly recommended!\", 'positive'), \n    (\"I'm really disappointed with the quality.\", 'negative'), \n    (\"So-so product, nothing special about it.\", 'neutral'), \n    (\"The customer service was excellent!\", 'positive'), \n    (\"I wasted my money on this useless product.\", 'negative'), \n    (\"It's not the worst, but certainly not the best.\", 'neutral'), \n    (\"I can't live without this product, it's a lifesaver!\", 'positive'), \n    (\"The product arrived damaged and unusable.\", 'negative'), \n    (\"It's average, neither good nor bad.\", 'neutral'), \n    (\"Highly disappointed with the purchase.\", 'negative'), \n    (\"The product exceeded my expectations.\", 'positive'), \n    (\"It's just okay, nothing extraordinary.\", 'neutral'), \n    (\"This product is excellent, it exceeded all my expectations!\", 'positive'), \n    (\"I regret purchasing this product, it's a waste of money.\", 'negative'), \n    (\"It's neither good nor bad, just average.\", 'neutral'), \n    (\"Outstanding customer service, highly recommended!\", 'positive'), \n    (\"I'm very disappointed with the quality of this item.\", 'negative'), \n    (\"It's not the best product, but it gets the job done.\", 'neutral'), \n    (\"This product is a game-changer, I can't imagine life without it!\", 'positive'), \n    (\"I received a defective product, very dissatisfied.\", 'negative'), \n    (\"It's neither great nor terrible, just okay.\", 'neutral'), \n    (\"Fantastic product, I would buy it again in a heartbeat!\", 'positive'), \n    (\"Avoid this product at all costs, complete waste of money.\", 'negative'), \n    (\"It's decent, but nothing extraordinary.\", 'neutral'), \n    (\"Impressive quality, exceeded my expectations!\", 'positive'), \n    (\"I'm very unhappy with this purchase, total disappointment.\", 'negative'), \n    (\"It's neither amazing nor terrible, somewhere in between.\", 'neutral') \n] \n \n# Initialize an empty list to store the data in tabular format \ntable_data = [[\"Text\", \"Actual Label\", \"TextBlob Polarity\", \"TextBlob Sentiment\", \n\"VADER Compound\", \"VADER Sentiment\"]] \n \n# Lexicon-based approach using TextBlob and VADER \nfor text, actual_label in data: \n    # TextBlob \n    blob = TextBlob(text) \n    tb_polarity = blob.sentiment.polarity \n     \n    # Determine label based on polarity score from TextBlob \n    if tb_polarity > 0: \n        tb_label = 'positive' \n    elif tb_polarity < 0: \n        tb_label = 'negative' \n    else: \n        tb_label = 'neutral' \n \n    # VADER \n    analyzer = SentimentIntensityAnalyzer() \n    vs = analyzer.polarity_scores(text) \n    vader_compound = vs['compound']\n \n \n    # Determine label based on compound score from VADER \n    if vader_compound > 0.05: \n        vader_label = 'positive' \n    elif vader_compound < -0.05: \n        vader_label = 'negative' \n    else: \n        vader_label = 'neutral' \n \n    table_data.append([text, actual_label, tb_polarity, tb_label, vader_compound, \nvader_label]) \n \nprint(tabulate(table_data, headers=\"firstrow\", tablefmt=\"plain\")) \n \n# Calculate classification report for TextBlob \ntb_classification_report = classification_report([label for _, label, _, tb_label, _, \n_ in table_data[1:]], [tb_label for _, _, _, tb_label, _, _ in table_data[1:]], \ntarget_names=['negative', 'neutral', 'positive']) \n \n# Calculate classification report for VADER \nvader_classification_report = classification_report([label for _, label, _, _, _, \nvader_label in table_data[1:]], [vader_label for _, _, _, _, _, vader_label in \ntable_data[1:]], target_names=['negative', 'neutral', 'positive']) \n \n# Print classification report for TextBlob \nprint(\"\\nClassification Report for TextBlob:\") \nprint(tb_classification_report) \n \n# Print classification report for VADER \nprint(\"\\nClassification Report for VADER:\") \nprint(vader_classification_report) ",
      "metadata": {
        "trusted": true
      },
      "outputs": [
        {
          "name": "stdout",
          "output_type": "stream",
          "text": "Text                                                              Actual Label      TextBlob Polarity  TextBlob Sentiment      VADER Compound  VADER Sentiment\nI love this product, it's amazing!                                positive                  0.625      positive                        0.8516  positive\nThis product is terrible, I hate it.                              negative                 -0.9        negative                       -0.7783  negative\nIt's okay, not bad but not great either.                          neutral                   0.15       positive                       -0.4707  negative\nBest product ever, highly recommended!                            positive                  0.6        positive                        0.7639  positive\nI'm really disappointed with the quality.                         negative                 -0.75       negative                       -0.5256  negative\nSo-so product, nothing special about it.                          neutral                   0.357143   positive                       -0.3089  negative\nThe customer service was excellent!                               positive                  1          positive                        0.6114  positive\nI wasted my money on this useless product.                        negative                 -0.35       negative                       -0.7543  negative\nIt's not the worst, but certainly not the best.                   neutral                  -0.0357143  negative                       -0.0785  negative\nI can't live without this product, it's a lifesaver!              positive                  0.170455   positive                        0.6239  positive\nThe product arrived damaged and unusable.                         negative                  0          neutral                        -0.4404  negative\nIt's average, neither good nor bad.                               neutral                  -0.05       negative                       -0.5824  negative\nHighly disappointed with the purchase.                            negative                 -0.75       negative                       -0.5256  negative\nThe product exceeded my expectations.                             positive                  0          neutral                         0       neutral\nIt's just okay, nothing extraordinary.                            neutral                   0.416667   positive                        0.2263  positive\nThis product is excellent, it exceeded all my expectations!       positive                  1          positive                        0.6114  positive\nI regret purchasing this product, it's a waste of money.          negative                 -0.2        negative                       -0.6808  negative\nIt's neither good nor bad, just average.                          neutral                  -0.05       negative                       -0.5824  negative\nOutstanding customer service, highly recommended!                 positive                  0.35       positive                        0.7495  positive\nI'm very disappointed with the quality of this item.              negative                 -0.975      negative                       -0.5256  negative\nIt's not the best product, but it gets the job done.              neutral                   1          positive                       -0.2924  negative\nThis product is a game-changer, I can't imagine life without it!  positive                  0          neutral                         0       neutral\nI received a defective product, very dissatisfied.                negative                  0.2        positive                       -0.6997  negative\nIt's neither great nor terrible, just okay.                       neutral                   0.1        positive                       -0.7278  negative\nFantastic product, I would buy it again in a heartbeat!           positive                  0.5        positive                        0.5983  positive\nAvoid this product at all costs, complete waste of money.         negative                 -0.05       negative                       -0.6124  negative\nIt's decent, but nothing extraordinary.                           neutral                   0.25       positive                        0       neutral\nImpressive quality, exceeded my expectations!                     positive                  1          positive                        0.5562  positive\nI'm very unhappy with this purchase, total disappointment.        negative                 -0.46       negative                       -0.7708  negative\nIt's neither amazing nor terrible, somewhere in between.          neutral                  -0.2        negative                       -0.6395  negative\n\nClassification Report for TextBlob:\n              precision    recall  f1-score   support\n\n    negative       0.67      0.80      0.73        10\n     neutral       0.00      0.00      0.00        10\n    positive       0.53      0.80      0.64        10\n\n    accuracy                           0.53        30\n   macro avg       0.40      0.53      0.46        30\nweighted avg       0.40      0.53      0.46        30\n\n\nClassification Report for VADER:\n              precision    recall  f1-score   support\n\n    negative       0.56      1.00      0.71        10\n     neutral       0.33      0.10      0.15        10\n    positive       0.89      0.80      0.84        10\n\n    accuracy                           0.63        30\n   macro avg       0.59      0.63      0.57        30\nweighted avg       0.59      0.63      0.57        30\n\n"
        }
      ],
      "execution_count": 15
    },
    {
      "id": "6f331565-0ffc-45dc-9ef0-bfe232f5e11f",
      "cell_type": "code",
      "source": "",
      "metadata": {
        "trusted": true
      },
      "outputs": [],
      "execution_count": null
    }
  ]
}